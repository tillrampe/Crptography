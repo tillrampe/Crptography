{
 "cells": [
  {
   "cell_type": "markdown",
   "metadata": {},
   "source": [
    "# Cryptography - How to exchange messages secrtly even if everyone is listening?"
   ]
  },
  {
   "cell_type": "markdown",
   "metadata": {},
   "source": [
    "State of the art ciphers use keys to encrypt and decrypt messages. The key is a number which is agreed upon before the parties exchange their messages. Only knowledge of the chosen key allows to decrypt the encrypted messages. Therefore, it is crucial that the key is kept secret at all moments. This begs the question: **how can two parties agree on a secret key when they must fear that all their communication is intercepted?**"
   ]
  },
  {
   "cell_type": "markdown",
   "metadata": {},
   "source": [
    "## 1. Diffie-Hellman key exchange"
   ]
  },
  {
   "cell_type": "markdown",
   "metadata": {},
   "source": [
    "We assume that two parties, Alice and Bob, want to find a common key."
   ]
  },
  {
   "cell_type": "markdown",
   "metadata": {},
   "source": [
    "First, Alice and Bob choose two keys. This may happen publicly, since those keys are distinct from the key that is generated in the end."
   ]
  },
  {
   "cell_type": "code",
   "execution_count": 67,
   "metadata": {},
   "outputs": [],
   "source": [
    "public1 = 3 # base\n",
    "public2 = 661889 # modulus"
   ]
  },
  {
   "cell_type": "markdown",
   "metadata": {},
   "source": [
    "Now, Alice and Bob, choose one private key each."
   ]
  },
  {
   "cell_type": "code",
   "execution_count": 68,
   "metadata": {},
   "outputs": [],
   "source": [
    "### Exercise 1 ###\n",
    "# Define Alice's and Bob's private key to be any number between 0 and 10 of your choice.\n",
    "alicePrivate = 519932\n",
    "bobPrivate = 341124"
   ]
  },
  {
   "cell_type": "markdown",
   "metadata": {},
   "source": [
    "Those keys are to be kept secret at all time: only Alice knows her key, and only Bob knows his key.\n",
    "So, Alice and Bob encrpyt their respective keys, before they sent it to each other."
   ]
  },
  {
   "cell_type": "code",
   "execution_count": 46,
   "metadata": {},
   "outputs": [],
   "source": [
    "def encryptKey(privateKey, publicKey1, publicKey2):\n",
    "    ### Exercise 2 ###\n",
    "    # Define the function that encrypts the private key and returns it.\n",
    "    return publicKey1 ** privateKey % publicKey2"
   ]
  },
  {
   "cell_type": "code",
   "execution_count": 69,
   "metadata": {},
   "outputs": [
    {
     "name": "stdout",
     "output_type": "stream",
     "text": [
      "Alice's encrypted key: 579498\n",
      "Bob's encrypted key: 414872\n"
     ]
    }
   ],
   "source": [
    "### Exercise 3 ###\n",
    "# Apply the function encryptKey() to define Alice's and Bob's encrypted keys, and print the result.\n",
    "aliceEncrypted = encryptKey(alicePrivate, public1, public2)\n",
    "bobEncrypted = encryptKey(bobPrivate, public1, public2)\n",
    "print(\"Alice's encrypted key:\", aliceEncrypted)\n",
    "print(\"Bob's encrypted key:\", bobEncrypted)"
   ]
  },
  {
   "cell_type": "markdown",
   "metadata": {},
   "source": [
    "Finally, the common key is defined to be:"
   ]
  },
  {
   "cell_type": "code",
   "execution_count": null,
   "metadata": {},
   "outputs": [],
   "source": [
    "commonKey = public1 ** (alicePrivate * bobPrivate) % public2\n",
    "print(commonKey)"
   ]
  },
  {
   "cell_type": "markdown",
   "metadata": {},
   "source": [
    "But Alice and Bob don't know each other's private key, only its encrypted version. However, this is enough to compute the common key."
   ]
  },
  {
   "cell_type": "code",
   "execution_count": 70,
   "metadata": {},
   "outputs": [],
   "source": [
    "def computeCommonKey(privateKey, encryptedKey, publicKey2):\n",
    "    ### Exercise 5 ###\n",
    "    # Define the function that computes the common key using only the parameters declared in the header of this function.\n",
    "    return encryptedKey ** privateKey % publicKey2"
   ]
  },
  {
   "cell_type": "code",
   "execution_count": 71,
   "metadata": {},
   "outputs": [
    {
     "name": "stdout",
     "output_type": "stream",
     "text": [
      "Alice computes the following common key: 317409\n",
      "Bob computes the following common key: 317409\n"
     ]
    }
   ],
   "source": [
    "### Exercise 6 ###\n",
    "# Compute the common key using only the information that is available to Alice (that means not using bobPrivate).\n",
    "# Repeat the same but for Bob.\n",
    "# Print the results and compare them. Do they end up with the same private keys?\n",
    "commonKey_Alice = computeCommonKey(alicePrivate, bobEncrypted, public2)\n",
    "commonKey_Bob = computeCommonKey(bobPrivate, aliceEncrypted, public2)\n",
    "print(\"Alice computes the following common key:\", commonKey_Alice)\n",
    "print(\"Bob computes the following common key:\", commonKey_Bob)"
   ]
  },
  {
   "cell_type": "markdown",
   "metadata": {},
   "source": [
    "## 2. Attacks on the Diffie-Hellman key exchange"
   ]
  },
  {
   "cell_type": "markdown",
   "metadata": {},
   "source": [
    "Without knowledge of either Alice's or Bob's private key an attacker cannot compute the common key. However, an attacker could try to find Alice's (or Bob's) private key using brute force, that means by trying every possibity."
   ]
  },
  {
   "cell_type": "code",
   "execution_count": 51,
   "metadata": {},
   "outputs": [],
   "source": [
    "def decrpytKey(encryptedKey, publicKey1, publicKey2):\n",
    "    ### Exercise 7 ###\n",
    "    # Define a function that goes through all possible private keys systematically to find the one that matches the encrypted key.\n",
    "    for possibleKey in range(0, publicKey2 - 1):\n",
    "        if encryptKey(possibleKey, publicKey1, publicKey2) == encryptedKey:\n",
    "            return possibleKey"
   ]
  },
  {
   "cell_type": "code",
   "execution_count": null,
   "metadata": {},
   "outputs": [],
   "source": [
    "### Exercise 8 ###\n",
    "# Apply the above function to find Alice's private key.\n",
    "# How hard was it to find Alice's private key using only public information?\n",
    "alicePrivate_hacked = decrpytKey(aliceEncrypted, public1, public2)\n",
    "print(\"Alice's private key has been hacked:\", alicePrivate_hacked)"
   ]
  },
  {
   "cell_type": "markdown",
   "metadata": {},
   "source": [
    "In our example, it took very little effort to find Alice's and Bob's private key using only public information. This is, because our public keys are small. In practice, ``public2`` should be at least 2048 bit long!"
   ]
  },
  {
   "cell_type": "markdown",
   "metadata": {},
   "source": [
    "### 2.1. How to choose good public keys (mathematical digression)"
   ]
  },
  {
   "cell_type": "markdown",
   "metadata": {},
   "source": [
    "Before we redefine ``public1`` and ``public2``, there is one more thing to consider. Imagine for a second we had chosen ``public1 = 1``. In this case, the common key generated would be\n",
    "```\n",
    "commonKey = public1 ** (alicePrivate * bobPrivate) % public2 = 1\n",
    "```\n",
    "no matter what Alice's and Bob's private key are, making it easy for an attacker to find the common key. In our example, ``public1`` and ``public2`` are chosen such that (depending on Alice's and Bob's private key) the common key can attain any value from ``1`` to ``public2 - 1``."
   ]
  },
  {
   "cell_type": "code",
   "execution_count": 24,
   "metadata": {},
   "outputs": [
    {
     "name": "stdout",
     "output_type": "stream",
     "text": [
      "1\n",
      "2\n",
      "4\n",
      "8\n",
      "5\n",
      "10\n",
      "9\n",
      "7\n",
      "3\n",
      "6\n",
      "1\n"
     ]
    }
   ],
   "source": [
    "### Exercise 9 ###\n",
    "# Output all values the common key can attain, and thereby support the above claim.\n",
    "for i in range(0, public2):\n",
    "    print(public1 ** i % public2)"
   ]
  },
  {
   "cell_type": "code",
   "execution_count": 25,
   "metadata": {},
   "outputs": [
    {
     "name": "stdout",
     "output_type": "stream",
     "text": [
      "1\n",
      "3\n",
      "9\n",
      "5\n",
      "4\n",
      "1\n",
      "3\n",
      "9\n",
      "5\n",
      "4\n",
      "1\n"
     ]
    }
   ],
   "source": [
    "### Exercise 10 ###\n",
    "# Go through Exercise 9 again, but this time with different choices for public1.\n",
    "# Find at least one choice for public1 that cannot generate all numbers from 1 to public2 - 1.\n",
    "public1 = 3\n",
    "for i in range(0, public2):\n",
    "    print(public1 ** i % public2)"
   ]
  },
  {
   "cell_type": "markdown",
   "metadata": {},
   "source": [
    "Mathematicians say that ``public1`` is a primitive root modulo ``public2``, if the expression\n",
    "```\n",
    "public1 ** i % public2\n",
    "```\n",
    "attains all values from ``1`` to ``public2 - 1`` as ``i`` ranges through all integers. A fancy mathematical theorem guarantess that such primitive roots exist provided that ``public2`` is a prime number.\n",
    "What we should take away from this mathematical digression are two things.\n",
    "\n",
    "(1) ``public2`` should be chosen to be a large prime number, and\n",
    "\n",
    "(2) ``public1`` should be chosen to be a primitive root modulo ``public2``."
   ]
  },
  {
   "cell_type": "code",
   "execution_count": 53,
   "metadata": {},
   "outputs": [],
   "source": [
    "### Exercise 11 (involved) ###\n",
    "\n",
    "# Execute the Diffie-Hellman key exchange again, but this time with higher values for the public key.\n",
    "# Also try to attack Alice's private key again.\n",
    "# How high do you have to choose the public key for the brute force attack to become ineffective?\n",
    "\n",
    "# Feel free to import the file Library.py which you find for download on the github page.\n",
    "# There you find a generator for prime numbers and a generator for primitive roots.\n",
    "# (If you struggle with importing the library, have a look at the table below.)\n",
    "\n",
    "# You may run into problems when exponentiating such large numbers. Make your code more efficient where possible.\n",
    "# Hint: Check out the function exponentiationBySquaring() in Library.py."
   ]
  }
 ],
 "metadata": {
  "kernelspec": {
   "display_name": "Python 3",
   "language": "python",
   "name": "python3"
  },
  "language_info": {
   "codemirror_mode": {
    "name": "ipython",
    "version": 3
   },
   "file_extension": ".py",
   "mimetype": "text/x-python",
   "name": "python",
   "nbconvert_exporter": "python",
   "pygments_lexer": "ipython3",
   "version": "3.12.3"
  }
 },
 "nbformat": 4,
 "nbformat_minor": 2
}
