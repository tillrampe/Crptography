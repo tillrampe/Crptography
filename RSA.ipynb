{
 "cells": [
  {
   "cell_type": "code",
   "execution_count": 50,
   "metadata": {},
   "outputs": [],
   "source": [
    "def extendedEuclidean(a, b):\n",
    "    r_old = a\n",
    "    r = b\n",
    "    s_old = 1\n",
    "    s = 0\n",
    "    t_old = 0\n",
    "    t = 1\n",
    "\n",
    "    while (r != 0):\n",
    "        quotient = r_old // r\n",
    "        r, r_old = r_old % r, r\n",
    "        s, s_old = s_old - quotient * s, s\n",
    "        t, t_old = t_old - quotient * t, t\n",
    "\n",
    "    return r_old, s_old, t_old\n"
   ]
  },
  {
   "cell_type": "code",
   "execution_count": 57,
   "metadata": {},
   "outputs": [
    {
     "name": "stdout",
     "output_type": "stream",
     "text": [
      "8 1 -1\n",
      "8\n"
     ]
    }
   ],
   "source": [
    "integer1 = 24\n",
    "integer2 = 16\n",
    "gcd, coeff1, coeff2 = extendedEuclidean(integer1,integer2)\n",
    "print(gcd, coeff1, coeff2)\n",
    "print(coeff1 * integer1 + coeff2 * integer2)"
   ]
  },
  {
   "cell_type": "code",
   "execution_count": 7,
   "metadata": {},
   "outputs": [],
   "source": [
    "prime1 = 5\n",
    "prime2 = 7"
   ]
  },
  {
   "cell_type": "code",
   "execution_count": 24,
   "metadata": {},
   "outputs": [
    {
     "name": "stdout",
     "output_type": "stream",
     "text": [
      "35\n"
     ]
    }
   ],
   "source": [
    "product = prime1 * prime2\n",
    "print(product)"
   ]
  },
  {
   "cell_type": "markdown",
   "metadata": {},
   "source": [
    "Important: exponent and (prime1 - 1) * (prime2 - 1 ) have to be coprime."
   ]
  },
  {
   "cell_type": "code",
   "execution_count": 23,
   "metadata": {},
   "outputs": [],
   "source": [
    "exponent = 5 "
   ]
  },
  {
   "cell_type": "code",
   "execution_count": 22,
   "metadata": {},
   "outputs": [],
   "source": [
    "my_message1 = 33\n",
    "my_message2 = 3"
   ]
  },
  {
   "cell_type": "code",
   "execution_count": 30,
   "metadata": {},
   "outputs": [],
   "source": [
    "def encrypt(input, N_key, e_key):\n",
    "    return input ** e_key % N_key"
   ]
  },
  {
   "cell_type": "code",
   "execution_count": 27,
   "metadata": {},
   "outputs": [
    {
     "name": "stdout",
     "output_type": "stream",
     "text": [
      "3\n",
      "33\n"
     ]
    }
   ],
   "source": [
    "encrypted1 = encrypt(my_message1, product, exponent)\n",
    "encrypted2 = encrypt(my_message2, product, exponent)\n",
    "print(encrypted1)\n",
    "print(encrypted2)"
   ]
  },
  {
   "cell_type": "code",
   "execution_count": 33,
   "metadata": {},
   "outputs": [
    {
     "ename": "SyntaxError",
     "evalue": "invalid syntax (2850214138.py, line 3)",
     "output_type": "error",
     "traceback": [
      "\u001b[0;36m  Cell \u001b[0;32mIn[33], line 3\u001b[0;36m\u001b[0m\n\u001b[0;31m    return Euclidean()\u001b[0m\n\u001b[0m    ^\u001b[0m\n\u001b[0;31mSyntaxError\u001b[0m\u001b[0;31m:\u001b[0m invalid syntax\n"
     ]
    }
   ],
   "source": [
    "def invert(d_Key, primefactor1, primefactor2):\n",
    "    euler = (primefactor1 - 1) * (primefactor2 - 1)\n",
    "    \n",
    "    "
   ]
  },
  {
   "cell_type": "code",
   "execution_count": 29,
   "metadata": {},
   "outputs": [],
   "source": [
    "def decrypt(input, N_key, d_Key):\n",
    "    return input ** d % N_key"
   ]
  },
  {
   "cell_type": "code",
   "execution_count": null,
   "metadata": {},
   "outputs": [],
   "source": []
  }
 ],
 "metadata": {
  "kernelspec": {
   "display_name": "Python 3",
   "language": "python",
   "name": "python3"
  },
  "language_info": {
   "codemirror_mode": {
    "name": "ipython",
    "version": 3
   },
   "file_extension": ".py",
   "mimetype": "text/x-python",
   "name": "python",
   "nbconvert_exporter": "python",
   "pygments_lexer": "ipython3",
   "version": "3.12.3"
  }
 },
 "nbformat": 4,
 "nbformat_minor": 2
}
