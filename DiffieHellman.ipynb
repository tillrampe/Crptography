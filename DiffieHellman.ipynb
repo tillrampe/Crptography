{
 "cells": [
  {
   "cell_type": "markdown",
   "metadata": {},
   "source": [
    "# Diffie-Hellman Key Exchange"
   ]
  },
  {
   "cell_type": "markdown",
   "metadata": {},
   "source": [
    "State of the art ciphers use keys to encrypt and decrypt messages. The key is a number which is agreed upon before the parties exchange their messages. Only knowledge of the chosen key allows to decrypt the encrypted messages. Therefore, it is crucial that the key is kept secret at all moments. This begs the question: **how can two parties agree on a secret key when they must fear that all their communication is intercepted?**"
   ]
  },
  {
   "cell_type": "code",
   "execution_count": 359,
   "metadata": {},
   "outputs": [],
   "source": [
    "def exponentiationBySquaring(a, b, modulus):\n",
    "    # b must be a non-negative integer\n",
    "    decomposition = list()\n",
    "    exponent = b\n",
    "    \n",
    "    while exponent > 0:\n",
    "        if exponent % 2 == 0:\n",
    "            decomposition.insert(0, True)\n",
    "            exponent = exponent // 2\n",
    "        elif exponent % 2 == 1:\n",
    "            decomposition.insert(0, False)\n",
    "            exponent = exponent - 1\n",
    "\n",
    "    result = 1 % modulus\n",
    "\n",
    "    for i in decomposition:\n",
    "        if i:\n",
    "            result = (result ** 2) % modulus\n",
    "        else:\n",
    "            result = (result * a) % modulus\n",
    "\n",
    "    return result\n"
   ]
  },
  {
   "cell_type": "code",
   "execution_count": 392,
   "metadata": {},
   "outputs": [],
   "source": [
    "def encryptKey(privateKey, publicKey1, publicKey2):\n",
    "    return exponentiationBySquaring(publicKey1, privateKey, publicKey2)"
   ]
  },
  {
   "cell_type": "code",
   "execution_count": 393,
   "metadata": {},
   "outputs": [],
   "source": [
    "def computeCommonKey(privateKey, encryptedKey, publicKey2):\n",
    "    return exponentiationBySquaring(encryptedKey, privateKey, publicKey2)"
   ]
  },
  {
   "cell_type": "markdown",
   "metadata": {},
   "source": [
    "We assume that two parties, Alice and Bob, want to find a common key."
   ]
  },
  {
   "cell_type": "markdown",
   "metadata": {},
   "source": [
    "First, Alice and Bob choose two keys. This may happen publicly, since those keys are distinct from the key that is generated in the end."
   ]
  },
  {
   "cell_type": "code",
   "execution_count": 362,
   "metadata": {},
   "outputs": [],
   "source": [
    "public1 = 6\n",
    "public2 = 761"
   ]
  },
  {
   "cell_type": "markdown",
   "metadata": {},
   "source": [
    "Now, Alice and Bob, choose one private key each."
   ]
  },
  {
   "cell_type": "code",
   "execution_count": 363,
   "metadata": {},
   "outputs": [],
   "source": [
    "alicePrivate = 630\n",
    "bobPrivate = 694"
   ]
  },
  {
   "cell_type": "markdown",
   "metadata": {},
   "source": [
    "Those keys are to be kept secret at all time: only Alice knows her key, and only Bob knows his key.\n",
    "So, Alice and Bob encrpyt their respective keys, before they sent it to each other."
   ]
  },
  {
   "cell_type": "code",
   "execution_count": 394,
   "metadata": {},
   "outputs": [
    {
     "name": "stdout",
     "output_type": "stream",
     "text": [
      "Alice private key: 630 -> encrypted: 716\n",
      "Bob private key: 694 -> encrypted: 144\n"
     ]
    }
   ],
   "source": [
    "aliceEncrypted = encryptKey(alicePrivate, public1, public2)\n",
    "bobEncrypted = encryptKey(bobPrivate, public1, public2)\n",
    "print('Alice private key:', alicePrivate, '-> encrypted:', aliceEncrypted)\n",
    "print('Bob private key:', bobPrivate, '-> encrypted:', bobEncrypted)"
   ]
  },
  {
   "cell_type": "markdown",
   "metadata": {},
   "source": [
    "Finally, the common key is defined to be:"
   ]
  },
  {
   "cell_type": "code",
   "execution_count": 365,
   "metadata": {},
   "outputs": [
    {
     "name": "stdout",
     "output_type": "stream",
     "text": [
      "common key: 405\n"
     ]
    }
   ],
   "source": [
    "commonKey = exponentiationBySquaring(public1, alicePrivate ** bobPrivate, public2)\n",
    "print('common key:', commonKey)"
   ]
  },
  {
   "cell_type": "markdown",
   "metadata": {},
   "source": [
    "But Alice and Bob don't know each other's private Key, only its encrypted version. However, this is enough to compute the common key."
   ]
  },
  {
   "cell_type": "code",
   "execution_count": 366,
   "metadata": {},
   "outputs": [
    {
     "name": "stdout",
     "output_type": "stream",
     "text": [
      "Alice computes the common key: 207\n",
      "Bob computes the common key: 207\n"
     ]
    }
   ],
   "source": [
    "commonKey_Alice = computeCommonKey(alicePrivate, bobEncrypted, public2)\n",
    "print('Alice computes the common key:', commonKey_Alice)\n",
    "commonKey_Bob = computeCommonKey(bobPrivate, aliceEncrypted, public2)\n",
    "print('Bob computes the common key:', commonKey_Bob)"
   ]
  },
  {
   "cell_type": "markdown",
   "metadata": {},
   "source": [
    "## Attacks"
   ]
  },
  {
   "cell_type": "markdown",
   "metadata": {},
   "source": [
    "An attacker might try to commpute the common key by decoding either Alice's of Bob's private key. Let's try to find Alice's private key by trying all possiblities."
   ]
  },
  {
   "cell_type": "code",
   "execution_count": 401,
   "metadata": {},
   "outputs": [],
   "source": [
    "def decryptKey(encryptedKey, publicKey1, publicKey2):\n",
    "    for possibleKey in range(0, publicKey2 - 1):\n",
    "        if encryptKey(possibleKey, publicKey1, publicKey2) == encryptedKey:\n",
    "            return possibleKey"
   ]
  },
  {
   "cell_type": "code",
   "execution_count": 368,
   "metadata": {},
   "outputs": [
    {
     "name": "stdout",
     "output_type": "stream",
     "text": [
      "Alice private key has been hacked: 630\n"
     ]
    }
   ],
   "source": [
    "aliceDecrypted = decryptKey(aliceEncrypted, public1, public2)\n",
    "print('Alice private key has been hacked:', aliceDecrypted)"
   ]
  },
  {
   "cell_type": "markdown",
   "metadata": {},
   "source": [
    "## Security"
   ]
  },
  {
   "cell_type": "markdown",
   "metadata": {},
   "source": [
    "In our example, it was easy for an attacker to decrypt Alice's private key by trying every possibility. This is why in practice the public keys and private keys are chosen to be much longer: at least 2048 bits is recommended!"
   ]
  },
  {
   "cell_type": "markdown",
   "metadata": {},
   "source": [
    "There is one more thing to be considered when choosing the public keys. Let's assume for a moment that we had taken a bad choice for $\\mathrm{public1}$."
   ]
  },
  {
   "cell_type": "code",
   "execution_count": 369,
   "metadata": {},
   "outputs": [],
   "source": [
    "public1 = 1"
   ]
  },
  {
   "cell_type": "markdown",
   "metadata": {},
   "source": [
    "This would be a serious security risk, because the common key would be $1$ no matter what Alice's and Bob's private keys are."
   ]
  },
  {
   "cell_type": "code",
   "execution_count": null,
   "metadata": {},
   "outputs": [],
   "source": [
    "for i in range(0, public2):\n",
    "    print(exponentiationBySquaring(public1, i, public2))"
   ]
  },
  {
   "cell_type": "markdown",
   "metadata": {},
   "source": [
    "The public keys in our example are better, because the common key can actually attain any value from $1$ to $\\mathrm{public2} - 1$."
   ]
  },
  {
   "cell_type": "code",
   "execution_count": null,
   "metadata": {},
   "outputs": [],
   "source": [
    "public1 = 6\n",
    "for i in range(0, public2):\n",
    "    print(exponentiationBySquaring(public1, i, public2))"
   ]
  },
  {
   "cell_type": "markdown",
   "metadata": {},
   "source": [
    "Mathematicians say that $6$ is a *primitive root modulo $761$* and a fancy mathematical theorem enssures that such a root of unity exists, since $761$ is a prime number."
   ]
  },
  {
   "cell_type": "markdown",
   "metadata": {},
   "source": [
    "### Larger keys are needed!"
   ]
  },
  {
   "cell_type": "code",
   "execution_count": null,
   "metadata": {},
   "outputs": [],
   "source": []
  },
  {
   "cell_type": "code",
   "execution_count": 372,
   "metadata": {},
   "outputs": [],
   "source": [
    "import math\n",
    "import random"
   ]
  },
  {
   "cell_type": "code",
   "execution_count": 373,
   "metadata": {},
   "outputs": [],
   "source": [
    "def isPrime(number):\n",
    "    # onyl works for integers > 1\n",
    "    searchspace = math.trunc(math.sqrt(number))\n",
    "    \n",
    "    for divisor in range(2, searchspace + 1):\n",
    "        if number % divisor == 0:\n",
    "            return False\n",
    "        \n",
    "    return True"
   ]
  },
  {
   "cell_type": "code",
   "execution_count": 374,
   "metadata": {},
   "outputs": [],
   "source": [
    "def randomPrime(upperbound):\n",
    "    \n",
    "    randomInt = random.randint(2, upperbound)\n",
    "    \n",
    "    while not isPrime(randomInt):\n",
    "        randomInt = random.randint(2, upperbound) # picks a random number between 2 and upperbound (both included)\n",
    "\n",
    "    return randomInt"
   ]
  },
  {
   "cell_type": "code",
   "execution_count": 385,
   "metadata": {},
   "outputs": [],
   "source": [
    "def isPrimitiveRootModulo(number, k, n):\n",
    "    if exponentiationBySquaring(number, k, n) != 1:\n",
    "        return False\n",
    "    else:\n",
    "        for i in range(2, k // 2 + 1): # try all prime divisors of k\n",
    "            if k % i == 0:\n",
    "                if isPrime(i):\n",
    "                    exponent = exponentiationBySquaring(number, k // i, n)\n",
    "                    if exponent == 1:\n",
    "                        return False\n",
    "    \n",
    "    return True\n",
    "                    \n",
    "                "
   ]
  },
  {
   "cell_type": "code",
   "execution_count": 386,
   "metadata": {},
   "outputs": [],
   "source": [
    "def randomPrimitiveRootModulo(modulus):\n",
    "\n",
    "    randomInt = random.randint(1, modulus - 1)\n",
    "\n",
    "    while not isPrimitiveRootModulo(randomInt, modulus - 1, modulus):\n",
    "        randomInt = random.randint(1, modulus - 1)\n",
    "    \n",
    "    return randomInt"
   ]
  },
  {
   "cell_type": "code",
   "execution_count": 404,
   "metadata": {},
   "outputs": [],
   "source": [
    "def lowestPrimitiveRootModulo(modulus):\n",
    "    for i in range(1, modulus - 1):\n",
    "        if isPrimitiveRootModulo(i, modulus - 1, modulus):\n",
    "            return i"
   ]
  },
  {
   "cell_type": "code",
   "execution_count": 409,
   "metadata": {},
   "outputs": [
    {
     "name": "stdout",
     "output_type": "stream",
     "text": [
      "1900476043\n"
     ]
    }
   ],
   "source": [
    "prime = randomPrime(2 ** 32)\n",
    "print(prime)"
   ]
  },
  {
   "cell_type": "code",
   "execution_count": 410,
   "metadata": {},
   "outputs": [
    {
     "name": "stdout",
     "output_type": "stream",
     "text": [
      "2\n"
     ]
    }
   ],
   "source": [
    "primitiveRoot = lowestPrimitiveRootModulo(prime)\n",
    "print(primitiveRoot)"
   ]
  },
  {
   "cell_type": "code",
   "execution_count": 411,
   "metadata": {},
   "outputs": [
    {
     "name": "stdout",
     "output_type": "stream",
     "text": [
      "1430723975\n",
      "43044452\n"
     ]
    }
   ],
   "source": [
    "alicePrivate = random.randint(1, prime)\n",
    "aliceEncrypted = encryptKey(alicePrivate, primitiveRoot, prime)\n",
    "print(alicePrivate)\n",
    "print(aliceEncrypted)"
   ]
  },
  {
   "cell_type": "code",
   "execution_count": null,
   "metadata": {},
   "outputs": [],
   "source": [
    "aliceDecrypted = decryptKey(aliceEncrypted, primitiveRoot, prime)\n",
    "print(aliceDecrypted)"
   ]
  }
 ],
 "metadata": {
  "kernelspec": {
   "display_name": "Python 3",
   "language": "python",
   "name": "python3"
  },
  "language_info": {
   "codemirror_mode": {
    "name": "ipython",
    "version": 3
   },
   "file_extension": ".py",
   "mimetype": "text/x-python",
   "name": "python",
   "nbconvert_exporter": "python",
   "pygments_lexer": "ipython3",
   "version": "3.12.3"
  }
 },
 "nbformat": 4,
 "nbformat_minor": 2
}
