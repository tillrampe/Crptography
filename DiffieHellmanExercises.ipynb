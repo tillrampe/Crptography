{
 "cells": [
  {
   "cell_type": "markdown",
   "metadata": {},
   "source": [
    "# Cryptography - How to exchange messages secrtly even if everyone is listening?"
   ]
  },
  {
   "cell_type": "markdown",
   "metadata": {},
   "source": [
    "State of the art ciphers use keys to encrypt and decrypt messages. The key is a number which is agreed upon before the parties exchange their messages. Only knowledge of the chosen key allows to decrypt the encrypted messages. Therefore, it is crucial that the key is kept secret at all moments. This begs the question: **how can two parties agree on a secret key when they must fear that all their communication is intercepted?**"
   ]
  },
  {
   "cell_type": "markdown",
   "metadata": {},
   "source": [
    "## 1. Diffie-Hellman key exchange"
   ]
  },
  {
   "cell_type": "markdown",
   "metadata": {},
   "source": [
    "We assume that two parties, Alice and Bob, want to find a common key."
   ]
  },
  {
   "cell_type": "markdown",
   "metadata": {},
   "source": [
    "First, Alice and Bob choose two keys. This may happen publicly, since those keys are distinct from the key that is generated in the end."
   ]
  },
  {
   "cell_type": "code",
   "execution_count": 5,
   "metadata": {},
   "outputs": [],
   "source": [
    "public1 = 2 # base\n",
    "public2 = 11 # modulus"
   ]
  },
  {
   "cell_type": "markdown",
   "metadata": {},
   "source": [
    "Now, Alice and Bob, choose one private key each."
   ]
  },
  {
   "cell_type": "code",
   "execution_count": 6,
   "metadata": {},
   "outputs": [],
   "source": [
    "### Exercise 1 ###\n",
    "# Define Alice's and Bob's private key to be any number between 0 and 10 of your choice.\n",
    "alicePrivate = \n",
    "bobPrivate = "
   ]
  },
  {
   "cell_type": "markdown",
   "metadata": {},
   "source": [
    "Those keys are to be kept secret at all time: only Alice knows her key, and only Bob knows his key.\n",
    "So, Alice and Bob encrpyt their respective keys, before they sent it to each other."
   ]
  },
  {
   "cell_type": "code",
   "execution_count": null,
   "metadata": {},
   "outputs": [],
   "source": [
    "def encryptKey(privateKey, publicKey1, publicKey2):\n",
    "    ### Exercise 2 ###\n",
    "    # Define the function that encrypts the private key and returns it.\n"
   ]
  },
  {
   "cell_type": "code",
   "execution_count": 10,
   "metadata": {},
   "outputs": [],
   "source": [
    "### Exercise 3 ###\n",
    "# Apply the function encrpytKey() to define Alice's and Bob's encrypted keys, and print the result."
   ]
  },
  {
   "cell_type": "markdown",
   "metadata": {},
   "source": [
    "Finally, the common key is defined to be:"
   ]
  },
  {
   "cell_type": "code",
   "execution_count": null,
   "metadata": {},
   "outputs": [],
   "source": [
    "commonKey = public1 ** (alicePrivate * bobPrivate) % public2"
   ]
  },
  {
   "cell_type": "markdown",
   "metadata": {},
   "source": [
    "But Alice and Bob don't know each other's private Key, only its encrypted version. However, this is enough to compute the common key."
   ]
  },
  {
   "cell_type": "code",
   "execution_count": null,
   "metadata": {},
   "outputs": [],
   "source": [
    "def computeCommonKey(privateKey, encryptedKey, publicKey1, publicKey2):\n",
    "    ### Exercise 5 ###\n",
    "    # Define the function that computes the common key using only the parameters declared in the header of this function."
   ]
  },
  {
   "cell_type": "code",
   "execution_count": 12,
   "metadata": {},
   "outputs": [],
   "source": [
    "### Exercise 6 ###\n",
    "# Compute the common key using only the information that is available to Alice (that means not using bobPrivate).\n",
    "# Repeat the same but for Bob.\n",
    "# Print the results and compare them. Do they end up with the same private keys?\n"
   ]
  },
  {
   "cell_type": "markdown",
   "metadata": {},
   "source": [
    "## 2. Attacks on the Diffie-Hellman key exchange"
   ]
  },
  {
   "cell_type": "markdown",
   "metadata": {},
   "source": [
    "Without knowledge of either Alice's or Bob's private key an attacker cannot compute the common key. However, an attacker could try to find Alice's (or Bob's) private key using brute force, that means by trying every possibity."
   ]
  },
  {
   "cell_type": "code",
   "execution_count": null,
   "metadata": {},
   "outputs": [],
   "source": [
    "def decrpytKey(encryptedKey, publicKey1, publicKey2):\n",
    "    ### Exercise 7 ###\n",
    "    # Define a function that goes through all possible private keys systematically to find the one that matches the encrypted key."
   ]
  },
  {
   "cell_type": "code",
   "execution_count": 15,
   "metadata": {},
   "outputs": [],
   "source": [
    "### Exercise 8 ###\n",
    "# Apply the above function to find Alice's private key.\n",
    "# How hard was it to find Alice's private key using only public information?"
   ]
  },
  {
   "cell_type": "markdown",
   "metadata": {},
   "source": [
    "In our example, it took very little effort to find Alice's and Bob's private key using only public information. This is, because our public keys are small. In practice, ``public2`` should be at least 2048 bit long!"
   ]
  },
  {
   "cell_type": "markdown",
   "metadata": {},
   "source": [
    "### 2.1. How to choose good public keys (mathematical digression)"
   ]
  },
  {
   "cell_type": "markdown",
   "metadata": {},
   "source": [
    "Before we redefine ``public1`` and ``public2``, there is one more thing to consider. Imagine for a second we had chosen ``public1 = 1``. In this case, the common key generated would be\n",
    "```\n",
    "commonKey = public1 ** (alicePrivate * bobPrivate) % public2 = 1\n",
    "```\n",
    "no matter what Alice's and Bob's private key are, making it easy for an attacker to find the common key. In our example, ``public1`` and ``public2`` are chosen such that (depending on Alice's and Bob's private key) the common key can attain any value from ``1`` to ``public2 - 1``."
   ]
  },
  {
   "cell_type": "code",
   "execution_count": 17,
   "metadata": {},
   "outputs": [],
   "source": [
    "### Exercise 9 ###\n",
    "# Output all values the common key can attain, and thereby support the above claim."
   ]
  },
  {
   "cell_type": "code",
   "execution_count": 16,
   "metadata": {},
   "outputs": [],
   "source": [
    "### Exercise 10 ###\n",
    "# Go through Exercise 9 again, but this time with different choices for public1.\n",
    "# Find at least one choice for public1 that cannot generate all numbers from 1 to public2 - 1."
   ]
  },
  {
   "cell_type": "markdown",
   "metadata": {},
   "source": [
    "Mathematicians say that ``public1`` is a primitive root modulo ``public2``, if the expression\n",
    "```\n",
    "public1 ** i % public2\n",
    "```\n",
    "attains all values from ``1`` to ``public2 - 1`` as ``i`` ranges through all integers. A fancy mathematical theorem guarantess that such primitive roots exist provided that ``public2`` is a prime number.\n",
    "What we should take away from this mathematical digression are two things.\n",
    "\n",
    "(1) ``public2`` should be chosen to be a large prime number, and\n",
    "\n",
    "(2) ``public1`` should be chosen to be a primitive root modulo ``public2``."
   ]
  }
 ],
 "metadata": {
  "kernelspec": {
   "display_name": "Python 3",
   "language": "python",
   "name": "python3"
  },
  "language_info": {
   "codemirror_mode": {
    "name": "ipython",
    "version": 3
   },
   "file_extension": ".py",
   "mimetype": "text/x-python",
   "name": "python",
   "nbconvert_exporter": "python",
   "pygments_lexer": "ipython3",
   "version": "3.12.3"
  }
 },
 "nbformat": 4,
 "nbformat_minor": 2
}
