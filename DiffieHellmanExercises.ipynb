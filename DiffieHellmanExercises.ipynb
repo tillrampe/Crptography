{
 "cells": [
  {
   "cell_type": "markdown",
   "metadata": {},
   "source": [
    "# Cryptography - How to exchange messages secrtly even if everyone is listening?"
   ]
  },
  {
   "cell_type": "markdown",
   "metadata": {},
   "source": [
    "State of the art ciphers use keys to encrypt and decrypt messages. The key is a number which is agreed upon before the parties exchange their messages. Only knowledge of the chosen key allows to decrypt the encrypted messages. Therefore, it is crucial that the key is kept secret at all moments. This begs the question: **how can two parties agree on a secret key when they must fear that all their communication is intercepted?**"
   ]
  },
  {
   "cell_type": "markdown",
   "metadata": {},
   "source": [
    "## 1. Diffie-Hellman key exchange"
   ]
  },
  {
   "cell_type": "markdown",
   "metadata": {},
   "source": [
    "We assume that two parties, Alice and Bob, want to find a common key."
   ]
  },
  {
   "cell_type": "markdown",
   "metadata": {},
   "source": [
    "First, Alice and Bob choose two keys. This may happen publicly, since those keys are distinct from the key that is generated in the end."
   ]
  },
  {
   "cell_type": "code",
   "execution_count": 8,
   "metadata": {},
   "outputs": [],
   "source": [
    "public1 = 2 # base\n",
    "public2 = 11 # modulus"
   ]
  },
  {
   "cell_type": "markdown",
   "metadata": {},
   "source": [
    "Now, Alice and Bob, choose one private key each."
   ]
  },
  {
   "cell_type": "code",
   "execution_count": null,
   "metadata": {},
   "outputs": [],
   "source": [
    "### Exercise 1 ###\n",
    "# Define Alice's and Bob's private key to be any number between 0 and 10 of your choice.\n",
    "alicePrivate = \n",
    "bobPrivate = "
   ]
  },
  {
   "cell_type": "markdown",
   "metadata": {},
   "source": [
    "Those keys are to be kept secret at all time: only Alice knows her key, and only Bob knows his key.\n",
    "So, Alice and Bob encrpyt their respective keys, before they sent it to each other."
   ]
  },
  {
   "cell_type": "code",
   "execution_count": null,
   "metadata": {},
   "outputs": [],
   "source": [
    "def encryptKey(privateKey, publicKey1, publicKey2):\n",
    "    ### Exercise 2 ###\n",
    "    # Define the function that encrypts the private key and returns it.\n"
   ]
  },
  {
   "cell_type": "code",
   "execution_count": null,
   "metadata": {},
   "outputs": [],
   "source": [
    "### Exercise 3 ###\n",
    "# Apply the function encryptKey() to define Alice's and Bob's encrypted keys, and print the result."
   ]
  },
  {
   "cell_type": "markdown",
   "metadata": {},
   "source": [
    "Finally, the common key is defined to be:"
   ]
  },
  {
   "cell_type": "code",
   "execution_count": null,
   "metadata": {},
   "outputs": [],
   "source": [
    "commonKey = public1 ** (alicePrivate * bobPrivate) % public2\n",
    "print(commonKey)"
   ]
  },
  {
   "cell_type": "markdown",
   "metadata": {},
   "source": [
    "But Alice and Bob don't know each other's private key, only its encrypted version. However, this is enough to compute the common key."
   ]
  },
  {
   "cell_type": "code",
   "execution_count": null,
   "metadata": {},
   "outputs": [],
   "source": [
    "def computeCommonKey(privateKey, encryptedKey, publicKey2):\n",
    "    ### Exercise 5 ###\n",
    "    # Define the function that computes the common key\n",
    "    # using only the parameters declared in the header of this function."
   ]
  },
  {
   "cell_type": "code",
   "execution_count": null,
   "metadata": {},
   "outputs": [],
   "source": [
    "### Exercise 6 ###\n",
    "# Compute the common key using only the information that is available to Alice\n",
    "# (that means not using bobPrivate).\n",
    "# Repeat the same from Bob's perspective.\n",
    "# Print the results and compare them. Do they end up with the same common keys?"
   ]
  },
  {
   "cell_type": "markdown",
   "metadata": {},
   "source": [
    "## 2. Attacks on the Diffie-Hellman key exchange"
   ]
  },
  {
   "cell_type": "markdown",
   "metadata": {},
   "source": [
    "Without knowledge of either Alice's or Bob's private key an attacker cannot compute the common key. However, an attacker could try to find Alice's (or Bob's) private key using brute force, that means by trying every possibity."
   ]
  },
  {
   "cell_type": "code",
   "execution_count": null,
   "metadata": {},
   "outputs": [],
   "source": [
    "def decrpytKey(encryptedKey, publicKey1, publicKey2):\n",
    "    ### Exercise 7 ###\n",
    "    # Define a function that goes through all possible private keys systematically\n",
    "    # to find the one that matches the encrypted key."
   ]
  },
  {
   "cell_type": "code",
   "execution_count": null,
   "metadata": {},
   "outputs": [],
   "source": [
    "### Exercise 8 ###\n",
    "# Apply the above function to find Alice's private key.\n",
    "# How hard was it to find Alice's private key using only public information?"
   ]
  },
  {
   "cell_type": "markdown",
   "metadata": {},
   "source": [
    "In our example, it took very little effort to find Alice's and Bob's private key using only public information. This is, because our public keys are small. In practice, ``public2`` should be at least 2048 bit long!"
   ]
  },
  {
   "cell_type": "markdown",
   "metadata": {},
   "source": [
    "## 3. How to choose good public keys (mathematical digression)"
   ]
  },
  {
   "cell_type": "markdown",
   "metadata": {},
   "source": [
    "Before we redefine ``public1`` and ``public2``, there is one more thing to consider. Imagine for a second we had chosen ``public1 = 1``. In this case, the common key generated would be\n",
    "```\n",
    "commonKey = public1 ** (alicePrivate * bobPrivate) % public2 = 1\n",
    "```\n",
    "no matter what Alice's and Bob's private key are, making it easy for an attacker to find the common key. In our example, ``public1`` and ``public2`` are chosen such that (depending on Alice's and Bob's private key) the common key can attain any value from ``1`` to ``public2 - 1``."
   ]
  },
  {
   "cell_type": "code",
   "execution_count": null,
   "metadata": {},
   "outputs": [],
   "source": [
    "### Exercise 9 ###\n",
    "# Output all values the common key can attain, and thereby support the above claim."
   ]
  },
  {
   "cell_type": "code",
   "execution_count": null,
   "metadata": {},
   "outputs": [],
   "source": [
    "### Exercise 10 ###\n",
    "# Go through Exercise 9 again, but this time with different choices for public1.\n",
    "# Find at least one choice for public1 that cannot generate all numbers from 1 to public2 - 1."
   ]
  },
  {
   "cell_type": "markdown",
   "metadata": {},
   "source": [
    "Mathematicians say that ``public1`` is a primitive root modulo ``public2``, if the expression\n",
    "```\n",
    "public1 ** i % public2\n",
    "```\n",
    "attains all values from ``1`` to ``public2 - 1`` as ``i`` ranges through all integers. A fancy mathematical theorem guarantess that such primitive roots exist provided that ``public2`` is a prime number.\n",
    "What we should take away from this mathematical digression are two things.\n",
    "\n",
    "(1) ``public2`` should be chosen to be a large prime number, and\n",
    "\n",
    "(2) ``public1`` should be chosen to be a primitive root modulo ``public2``."
   ]
  },
  {
   "cell_type": "markdown",
   "metadata": {},
   "source": [
    "## 4. Longer keys"
   ]
  },
  {
   "cell_type": "markdown",
   "metadata": {},
   "source": [
    "In this section we will go over section 1 again, but with longer keys to ensure the security of the key exchange.\n",
    "The main goal of this subsection is to find at which key length the brute force attack form exercise 7 because unfeasable."
   ]
  },
  {
   "cell_type": "code",
   "execution_count": null,
   "metadata": {},
   "outputs": [],
   "source": [
    "### Exercise 11 ###\n",
    "# Download the Library.py file from the github page: https://github.com/tillrampe/Cryptography\n",
    "# Then import it to this Jupyter Notebook.\n",
    "# Note that the Library.py must be in the same directory as your Notebook file."
   ]
  },
  {
   "cell_type": "code",
   "execution_count": null,
   "metadata": {},
   "outputs": [],
   "source": [
    "### Exercise 12 ###\n",
    "# Use the functions provided by Library.py to find a large prime number p and a primitve root modulo p."
   ]
  },
  {
   "cell_type": "code",
   "execution_count": null,
   "metadata": {},
   "outputs": [],
   "source": [
    "# Exercise 13 ###\n",
    "# Go over section 1 and 2 again and perform the Diffie-Hellman key exchange as well as the attack on it,\n",
    "# but this time use the prime number and the primitive root you've found in exercise 12 as your public keys.\n",
    "# (If you were unable to do exercise 12, you may use numbers from the below table instead.)\n",
    "\n",
    "# prime p | primitive root modulo p\n",
    "# -------------------------------------\n",
    "# 34807   | 3\n",
    "# 454711  | 3\n",
    "# 126493  | 5\n",
    "# 661889  | 3\n",
    "# 6100189 | 2"
   ]
  },
  {
   "cell_type": "markdown",
   "metadata": {},
   "source": [
    "In the previous exercise you might have run into problems, because Python has troubles dealing with numbers that large.\n",
    "In the following exercise we want to resolve these issues. One of the commands that causes toubles is the following:\n",
    "```\n",
    "publicKey1 ** privateKey % publicKey2\n",
    "```\n",
    "When executing this command Python first calculates ``x = publicKey1 ** privateKey`` and then ``x % publicKey2``.\n",
    "The problem lies in the fact that ``x`` easily grows beyond the available memory, even if, in the end, we are only interested in ``x % publicKey2``. The solution is to apply the ``%`` as we exponentiate.\n",
    "To be even more efficient we can apply a method called **exponentiation by squaring**.\n"
   ]
  },
  {
   "cell_type": "code",
   "execution_count": null,
   "metadata": {},
   "outputs": [],
   "source": [
    "# Exercise 14 #\n",
    "# Go over section 1 and 2 again. Use the function exponentiationBySquaring() from Lirary.py wherever possible. "
   ]
  },
  {
   "cell_type": "markdown",
   "metadata": {},
   "source": [
    "## 5. Key exchange between three and more parties"
   ]
  },
  {
   "cell_type": "markdown",
   "metadata": {},
   "source": [
    "So far, we have only looked at scenarios where two parties (Alice and Bob) want to establish a common key.\n",
    "With a slight adaptation of the Diffie-Hellman key exchange\n",
    "it is possible to also establish a common key between more parties."
   ]
  },
  {
   "cell_type": "markdown",
   "metadata": {},
   "source": [
    "Let's assume Alice, Bob and Clara want to establish a common key.\n",
    "Just like before we need two public keys, as well as a private key for each of the three parties."
   ]
  },
  {
   "cell_type": "code",
   "execution_count": 10,
   "metadata": {},
   "outputs": [],
   "source": [
    "public1 = 2\n",
    "public2 = 11\n",
    "alicePrivate = 7\n",
    "bobPrivate = 3\n",
    "claraPrivate = 10"
   ]
  },
  {
   "cell_type": "markdown",
   "metadata": {},
   "source": [
    "The common key will be as follows:"
   ]
  },
  {
   "cell_type": "code",
   "execution_count": 11,
   "metadata": {},
   "outputs": [],
   "source": [
    "commonKey = public1 ** (alicePrivate  * bobPrivate * claraPrivate) % public2"
   ]
  },
  {
   "cell_type": "markdown",
   "metadata": {},
   "source": [
    "Alice, Bob and Clara each encrypt their private key using the above encryptKey() function\n",
    "and share the encrypted version publicly with each other."
   ]
  },
  {
   "cell_type": "code",
   "execution_count": null,
   "metadata": {},
   "outputs": [],
   "source": [
    "aliceEncrypted = encryptKey(alicePrivate, public1, public2)\n",
    "bobEncrypted = encryptKey(bobPrivate, public1, public2)\n",
    "claraEncrypted = encryptKey(claraPrivate, public1, public2)"
   ]
  },
  {
   "cell_type": "markdown",
   "metadata": {},
   "source": [
    "In the two party key exchange, Alice and Bob were able to compute the common key\n",
    "with just the information shared so far.\n",
    "In the three party key exchange, one more intermediate step is necessary.\n",
    "Alice has to combine ``bobEncrypted`` with her private key to define a variable ``aliceBobEncrypted``.\n",
    "Then she shares ``aliceBobEncrypted`` publicly with everyone.\n",
    "Simalrly, Bob defines a variable ``bobClaraEncrypted``, and Clara defines a variable ``claraAliceEncrypted``."
   ]
  },
  {
   "cell_type": "code",
   "execution_count": null,
   "metadata": {},
   "outputs": [],
   "source": [
    "# Exercise 15 (hard) #\n",
    "# Can you guess how the variable aliceBobEncrypted has to be defined?\n",
    "# Define aliceBobEncrypted using only the information that is available to Alice.\n",
    "# Do the same for bobClaraEncrypted and claraAliceEncrypted\n",
    "# Hint: Use the colour analogy and exploit the mathematical laws of exponentiation.\n",
    "\n",
    "aliceBobEncrypted = \n",
    "bobClaraEncrypted = \n",
    "claraAliceEncrypted = "
   ]
  },
  {
   "cell_type": "code",
   "execution_count": 13,
   "metadata": {},
   "outputs": [],
   "source": [
    "# Exercise 16 #\n",
    "# Calculate the common key using only the information that is available to Alice.\n",
    "# In fact, you only need the variables public1, public2, alicePrivate, and bobClaraEncrypted.\n",
    "# Do the same thing for Bob and Clara. Do they all agree on the same common key as they should? "
   ]
  }
 ],
 "metadata": {
  "kernelspec": {
   "display_name": "Python 3",
   "language": "python",
   "name": "python3"
  },
  "language_info": {
   "codemirror_mode": {
    "name": "ipython",
    "version": 3
   },
   "file_extension": ".py",
   "mimetype": "text/x-python",
   "name": "python",
   "nbconvert_exporter": "python",
   "pygments_lexer": "ipython3",
   "version": "3.12.3"
  }
 },
 "nbformat": 4,
 "nbformat_minor": 2
}
